{
 "cells": [
  {
   "cell_type": "code",
   "execution_count": 65,
   "id": "302fa567",
   "metadata": {},
   "outputs": [],
   "source": [
    "import osmnx as ox\n",
    "import networkx as nx\n",
    "import matplotlib.pyplot as plt\n",
    "import contextily as ctx\n",
    "import numpy as np"
   ]
  },
  {
   "cell_type": "code",
   "execution_count": 66,
   "id": "b7cdb604",
   "metadata": {},
   "outputs": [],
   "source": [
    "place_name = \"Lund, Sweden\"\n",
    "graph = ox.graph_from_place(place_name, network_type=\"walk\")"
   ]
  },
  {
   "cell_type": "code",
   "execution_count": 67,
   "id": "ee302db1",
   "metadata": {},
   "outputs": [],
   "source": [
    "G = {}\n",
    "\n",
    "for u, v, data in graph.edges(data=True):\n",
    "    if u not in G:\n",
    "        G[u] = [(v, data['length'])]\n",
    "    else:\n",
    "        G[u].append((v, data['length']))\n",
    "    if v not in G:\n",
    "        G[v] = [(u, data['length'])]\n",
    "    else:\n",
    "        G[v].append((u, data['length']))"
   ]
  },
  {
   "cell_type": "code",
   "execution_count": 68,
   "id": "86054459",
   "metadata": {},
   "outputs": [],
   "source": [
    "# Kämnärsvägen 24, Lund\n",
    "my_x = 55.721008399999995\n",
    "my_y = 13.2161239\n",
    "\n",
    "my_node = ox.distance.nearest_nodes(graph, my_x, my_y)"
   ]
  },
  {
   "cell_type": "code",
   "execution_count": 69,
   "id": "4a467aa8",
   "metadata": {},
   "outputs": [],
   "source": [
    "GOAL_DISTANCE = 1000"
   ]
  },
  {
   "cell_type": "code",
   "execution_count": 70,
   "id": "8eaa1530",
   "metadata": {},
   "outputs": [],
   "source": [
    "import math\n",
    "\n",
    "def haversine_distance(lat1, lon1, lat2, lon2, R=6371000.0):\n",
    "    phi1 = math.radians(lat1)\n",
    "    phi2 = math.radians(lat2)\n",
    "    dphi = math.radians(lat2 - lat1)\n",
    "    dlambda = math.radians(lon2 - lon1)\n",
    "\n",
    "    a = math.sin(dphi/2.0)**2 + math.cos(phi1) * math.cos(phi2) * math.sin(dlambda/2.0)**2\n",
    "    c = 2.0 * math.atan2(math.sqrt(a), math.sqrt(1.0 - a))\n",
    "    return R * c  # meter"
   ]
  },
  {
   "cell_type": "code",
   "execution_count": 81,
   "id": "111cadc7",
   "metadata": {},
   "outputs": [],
   "source": [
    "\n",
    "circumference_nodes = []\n",
    "tol = 100\n",
    "\n",
    "for u, data in graph.nodes(data=True):\n",
    "    x = data['x']\n",
    "    y = data['y']\n",
    "    if abs(haversine_distance(my_x, my_y, y, x) - GOAL_DISTANCE / 2) <= tol:\n",
    "        circumference_nodes.append(u)"
   ]
  },
  {
   "cell_type": "code",
   "execution_count": 84,
   "id": "a5c93234",
   "metadata": {},
   "outputs": [],
   "source": [
    "import heapq\n",
    "\n",
    "def dijkstra(start, goal_distance):\n",
    "    queue = [(0, start, [])] \n",
    "    visited = set()\n",
    "\n",
    "    while queue:\n",
    "        current_distance, current_node, current_path = heapq.heappop(queue)\n",
    "        if current_node not in visited:\n",
    "            visited.add(current_node)\n",
    "            new_path = current_path + [current_node]\n",
    "\n",
    "            if current_distance >= goal_distance:\n",
    "                return current_distance, new_path\n",
    "\n",
    "            for neighbor, weight in G[current_node]:\n",
    "                if neighbor not in visited:\n",
    "                    heapq.heappush(queue, (current_distance + weight, neighbor, new_path))\n",
    "\n",
    "    raise ValueError(\"No path found to goal node\")"
   ]
  },
  {
   "cell_type": "code",
   "execution_count": null,
   "id": "682b61ba",
   "metadata": {},
   "outputs": [],
   "source": [
    "distance, path = dijkstra(my_node, 1000)"
   ]
  }
 ],
 "metadata": {
  "kernelspec": {
   "display_name": "run_tok",
   "language": "python",
   "name": "python3"
  },
  "language_info": {
   "codemirror_mode": {
    "name": "ipython",
    "version": 3
   },
   "file_extension": ".py",
   "mimetype": "text/x-python",
   "name": "python",
   "nbconvert_exporter": "python",
   "pygments_lexer": "ipython3",
   "version": "3.12.11"
  }
 },
 "nbformat": 4,
 "nbformat_minor": 5
}
